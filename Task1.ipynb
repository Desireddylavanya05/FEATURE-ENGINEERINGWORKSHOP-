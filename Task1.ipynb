{
  "metadata": {
    "kernelspec": {
      "name": "python",
      "display_name": "Python (Pyodide)",
      "language": "python"
    },
    "language_info": {
      "codemirror_mode": {
        "name": "python",
        "version": 3
      },
      "file_extension": ".py",
      "mimetype": "text/x-python",
      "name": "python",
      "nbconvert_exporter": "python",
      "pygments_lexer": "ipython3",
      "version": "3.8"
    }
  },
  "nbformat_minor": 5,
  "nbformat": 4,
  "cells": [
    {
      "id": "6abaeec0-9eb8-4f20-9537-8e660070c3e1",
      "cell_type": "code",
      "source": "import pandas as pd\nimport numpy as np\nfrom sklearn.linear_model import LinearRegression\nfrom sklearn.preprocessing import PolynomialFeatures\nfrom sklearn.model_selection import train_test_split\nfrom sklearn.metrics import mean_squared_error, r2_score\n\n# Sample dataset\nnp.random.seed(42)\nX = pd.DataFrame({\n    'X1': np.random.rand(100),\n    'X2': np.random.rand(100)\n})\n# Target variable (nonlinear relationship)\ny = 3*X['X1'] + 2*X['X2'] + 4*X['X1']*X['X2'] + np.random.normal(0, 0.1, 100)\n\n# Train-test split\nX_train, X_test, y_train, y_test = train_test_split(X, y, test_size=0.2, random_state=42)\n\n# Model with only original features\nmodel1 = LinearRegression()\nmodel1.fit(X_train, y_train)\ny_pred1 = model1.predict(X_test)\n\nprint(\"Model with original features:\")\nprint(f\"R² Score: {r2_score(y_test, y_pred1):.4f}\")\nprint(f\"RMSE: {np.sqrt(mean_squared_error(y_test, y_pred1)):.4f}\")\n\n# Feature engineering: Polynomial and interaction terms\npoly = PolynomialFeatures(degree=2, interaction_only=False, include_bias=False)\nX_poly_train = poly.fit_transform(X_train)\nX_poly_test = poly.transform(X_test)\n\n# Model with engineered features\nmodel2 = LinearRegression()\nmodel2.fit(X_poly_train, y_train)\ny_pred2 = model2.predict(X_poly_test)\n\nprint(\"\\nModel with polynomial + interaction features:\")\nprint(f\"R² Score: {r2_score(y_test, y_pred2):.4f}\")\nprint(f\"RMSE: {np.sqrt(mean_squared_error(y_test, y_pred2)):.4f}\")\n\n# Show feature names\nfeature_names = poly.get_feature_names_out(X.columns)\nprint(\"\\nEngineered Features:\")\nprint(feature_names)\n",
      "metadata": {
        "trusted": true
      },
      "outputs": [
        {
          "name": "stdout",
          "output_type": "stream",
          "text": "Model with original features:\nR² Score: 0.9698\nRMSE: 0.3425\n\nModel with polynomial + interaction features:\nR² Score: 0.9981\nRMSE: 0.0855\n\nEngineered Features:\n['X1' 'X2' 'X1^2' 'X1 X2' 'X2^2']\n"
        }
      ],
      "execution_count": 1
    },
    {
      "id": "b6bd6b55-4451-47fb-ba9f-c4ea85b66ac2",
      "cell_type": "code",
      "source": "",
      "metadata": {
        "trusted": true
      },
      "outputs": [],
      "execution_count": null
    }
  ]
}